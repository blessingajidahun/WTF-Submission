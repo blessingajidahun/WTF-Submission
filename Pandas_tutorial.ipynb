{
  "nbformat": 4,
  "nbformat_minor": 0,
  "metadata": {
    "colab": {
      "provenance": [],
      "authorship_tag": "ABX9TyMPJgvJ2z9oPeNzP3cxbr7P",
      "include_colab_link": true
    },
    "kernelspec": {
      "name": "python3",
      "display_name": "Python 3"
    },
    "language_info": {
      "name": "python"
    }
  },
  "cells": [
    {
      "cell_type": "markdown",
      "metadata": {
        "id": "view-in-github",
        "colab_type": "text"
      },
      "source": [
        "<a href=\"https://colab.research.google.com/github/blessingajidahun/WTF-Submission/blob/main/Pandas_tutorial.ipynb\" target=\"_parent\"><img src=\"https://colab.research.google.com/assets/colab-badge.svg\" alt=\"Open In Colab\"/></a>"
      ]
    },
    {
      "cell_type": "code",
      "execution_count": 3,
      "metadata": {
        "id": "3reElPlQFLwd"
      },
      "outputs": [],
      "source": [
        "import numpy as np\n",
        "import pandas as pd"
      ]
    },
    {
      "cell_type": "code",
      "source": [
        "days =pd.Series(['Monday', 'Tuesaday', 'Wednesday'])\n",
        "print(days)"
      ],
      "metadata": {
        "colab": {
          "base_uri": "https://localhost:8080/"
        },
        "id": "Xm5VuWtKFuRz",
        "outputId": "4396201d-809e-48a2-946c-8535da3ef50c"
      },
      "execution_count": 5,
      "outputs": [
        {
          "output_type": "stream",
          "name": "stdout",
          "text": [
            "0       Monday\n",
            "1     Tuesaday\n",
            "2    Wednesday\n",
            "dtype: object\n"
          ]
        }
      ]
    },
    {
      "cell_type": "markdown",
      "source": [
        "Creating series with a numpy array"
      ],
      "metadata": {
        "id": "vyQ3bImpHCIm"
      }
    },
    {
      "cell_type": "code",
      "source": [
        "days_list =(['Monday', 'Tuesday', 'Wednesday'])\n",
        "numpy_days = pd.Series(days_list)\n",
        "print(numpy_days)"
      ],
      "metadata": {
        "colab": {
          "base_uri": "https://localhost:8080/"
        },
        "id": "JguyVE0mHG4O",
        "outputId": "9f200374-1c7d-4abe-d2bc-554cec33a2fb"
      },
      "execution_count": 6,
      "outputs": [
        {
          "output_type": "stream",
          "name": "stdout",
          "text": [
            "0       Monday\n",
            "1      Tuesday\n",
            "2    Wednesday\n",
            "dtype: object\n"
          ]
        }
      ]
    },
    {
      "cell_type": "markdown",
      "source": [
        "using strings as index\n",
        "\n",
        "Create series from a dictionary"
      ],
      "metadata": {
        "id": "7keNkVAPLxFQ"
      }
    },
    {
      "cell_type": "code",
      "source": [
        "days = pd.Series(['Monday', 'Tuesday', 'Wednesday'], index = ['a', 'b','c'])\n",
        "print(days)"
      ],
      "metadata": {
        "colab": {
          "base_uri": "https://localhost:8080/"
        },
        "id": "F9LIedk1L4oy",
        "outputId": "961bfb90-42e5-439f-d004-ce258195f642"
      },
      "execution_count": 7,
      "outputs": [
        {
          "output_type": "stream",
          "name": "stdout",
          "text": [
            "a       Monday\n",
            "b      Tuesday\n",
            "c    Wednesday\n",
            "dtype: object\n"
          ]
        }
      ]
    },
    {
      "cell_type": "code",
      "source": [
        "days1 = pd.Series({'a':'Monday', 'b':'Tuesday', 'c':'Wednesday'})\n",
        "print(days1)"
      ],
      "metadata": {
        "colab": {
          "base_uri": "https://localhost:8080/"
        },
        "id": "IrjWqr1zMs4H",
        "outputId": "5d05cb05-9a52-4e94-9fe4-ca4a397c78c1"
      },
      "execution_count": 8,
      "outputs": [
        {
          "output_type": "stream",
          "name": "stdout",
          "text": [
            "a       Monday\n",
            "b      Tuesday\n",
            "c    Wednesday\n",
            "dtype: object\n"
          ]
        }
      ]
    },
    {
      "cell_type": "markdown",
      "source": [
        "Series can be accessed as shown below:"
      ],
      "metadata": {
        "id": "ODnTpMWNNhFg"
      }
    },
    {
      "cell_type": "code",
      "source": [
        "days[0]"
      ],
      "metadata": {
        "colab": {
          "base_uri": "https://localhost:8080/",
          "height": 35
        },
        "id": "VZcQ2y5PNgVF",
        "outputId": "60c4831a-7bd4-4637-b489-7cdd47890c2f"
      },
      "execution_count": 9,
      "outputs": [
        {
          "output_type": "execute_result",
          "data": {
            "text/plain": [
              "'Monday'"
            ],
            "application/vnd.google.colaboratory.intrinsic+json": {
              "type": "string"
            }
          },
          "metadata": {},
          "execution_count": 9
        }
      ]
    },
    {
      "cell_type": "code",
      "source": [
        "days[1:]"
      ],
      "metadata": {
        "colab": {
          "base_uri": "https://localhost:8080/"
        },
        "id": "ppYZPnu7NnLn",
        "outputId": "57ae11e6-7247-4957-eaba-45aeff38a6a9"
      },
      "execution_count": 10,
      "outputs": [
        {
          "output_type": "execute_result",
          "data": {
            "text/plain": [
              "b      Tuesday\n",
              "c    Wednesday\n",
              "dtype: object"
            ]
          },
          "metadata": {},
          "execution_count": 10
        }
      ]
    },
    {
      "cell_type": "code",
      "source": [
        "days['c']"
      ],
      "metadata": {
        "colab": {
          "base_uri": "https://localhost:8080/",
          "height": 35
        },
        "id": "_oJPuUQONrAx",
        "outputId": "c224140b-5431-404d-e95c-b33c3df9d16a"
      },
      "execution_count": 11,
      "outputs": [
        {
          "output_type": "execute_result",
          "data": {
            "text/plain": [
              "'Wednesday'"
            ],
            "application/vnd.google.colaboratory.intrinsic+json": {
              "type": "string"
            }
          },
          "metadata": {},
          "execution_count": 11
        }
      ]
    },
    {
      "cell_type": "markdown",
      "source": [
        "DATAFRAMES\n",
        "\n",
        "To create an empty dataframe:"
      ],
      "metadata": {
        "id": "5jBKTtUZOtT4"
      }
    },
    {
      "cell_type": "code",
      "source": [
        "print(pd.DataFrame())"
      ],
      "metadata": {
        "colab": {
          "base_uri": "https://localhost:8080/"
        },
        "id": "2_o679Q9OyKb",
        "outputId": "bb70f582-c83c-48ff-e242-913ffeaca930"
      },
      "execution_count": 12,
      "outputs": [
        {
          "output_type": "stream",
          "name": "stdout",
          "text": [
            "Empty DataFrame\n",
            "Columns: []\n",
            "Index: []\n"
          ]
        }
      ]
    },
    {
      "cell_type": "markdown",
      "source": [
        "To create a dataframe from a dictionary:"
      ],
      "metadata": {
        "id": "mmWwaaStQcvn"
      }
    },
    {
      "cell_type": "code",
      "source": [
        "df_dict = {'Country': ['Ghana', 'Kenya', 'Nigeria', 'Togo'],\n",
        "           'Capital': ['Accra', 'Nairobi', 'Abuja', 'Lome'],\n",
        "           'Population':[10000, 8500, 35000, 12000],\n",
        "           'Age': [60, 70, 80, 75]}\n",
        "df = pd.DataFrame(df_dict, index = [2,4,6,8])\n",
        "print(df)"
      ],
      "metadata": {
        "colab": {
          "base_uri": "https://localhost:8080/"
        },
        "id": "dXw3z91lQieP",
        "outputId": "f0381998-af8b-4d68-801f-f9faf5c6d8e7"
      },
      "execution_count": 13,
      "outputs": [
        {
          "output_type": "stream",
          "name": "stdout",
          "text": [
            "   Country  Capital  Population  Age\n",
            "2    Ghana    Accra       10000   60\n",
            "4    Kenya  Nairobi        8500   70\n",
            "6  Nigeria    Abuja       35000   80\n",
            "8     Togo     Lome       12000   75\n"
          ]
        }
      ]
    },
    {
      "cell_type": "markdown",
      "source": [
        "To create a dataframe from list"
      ],
      "metadata": {
        "id": "c3CKIHSTRjPC"
      }
    },
    {
      "cell_type": "code",
      "source": [
        "df_list = [['Ghana', 'Accra', 10000, 60],\n",
        "           ['Kenya', 'Nairobi', 8500, 70],\n",
        "           ['Nigeria', 'Abuja', '35000', 80],\n",
        "           ['Togo', 'Lome', 12000, 75]]\n",
        "df1 = pd.DataFrame(df_list, columns =['Country', 'Capital', 'Population', 'Age'], index = [2,4,6,8])\n",
        "print(df1)"
      ],
      "metadata": {
        "colab": {
          "base_uri": "https://localhost:8080/"
        },
        "id": "8FzQnpGXNq60",
        "outputId": "f818bf1e-c35a-43a0-9d43-0a4ac68365e9"
      },
      "execution_count": 15,
      "outputs": [
        {
          "output_type": "stream",
          "name": "stdout",
          "text": [
            "   Country  Capital Population  Age\n",
            "2    Ghana    Accra      10000   60\n",
            "4    Kenya  Nairobi       8500   70\n",
            "6  Nigeria    Abuja      35000   80\n",
            "8     Togo     Lome      12000   75\n"
          ]
        }
      ]
    },
    {
      "cell_type": "markdown",
      "source": [
        "Accessing the elements in a data fram using loc, iloc, at and iat."
      ],
      "metadata": {
        "id": "sQNCl6twbe9s"
      }
    },
    {
      "cell_type": "code",
      "source": [
        "df.iloc[2]"
      ],
      "metadata": {
        "colab": {
          "base_uri": "https://localhost:8080/"
        },
        "id": "bLY3byvJZ8lu",
        "outputId": "16463044-5737-41fe-9bf5-76ab706fa28c"
      },
      "execution_count": 16,
      "outputs": [
        {
          "output_type": "execute_result",
          "data": {
            "text/plain": [
              "Country       Nigeria\n",
              "Capital         Abuja\n",
              "Population      35000\n",
              "Age                80\n",
              "Name: 6, dtype: object"
            ]
          },
          "metadata": {},
          "execution_count": 16
        }
      ]
    },
    {
      "cell_type": "code",
      "source": [
        "df.loc[6]"
      ],
      "metadata": {
        "colab": {
          "base_uri": "https://localhost:8080/"
        },
        "id": "O40-yiHJbw92",
        "outputId": "38cde778-29f2-4d1a-bf0f-46100e360528"
      },
      "execution_count": 18,
      "outputs": [
        {
          "output_type": "execute_result",
          "data": {
            "text/plain": [
              "Country       Nigeria\n",
              "Capital         Abuja\n",
              "Population      35000\n",
              "Age                80\n",
              "Name: 6, dtype: object"
            ]
          },
          "metadata": {},
          "execution_count": 18
        }
      ]
    },
    {
      "cell_type": "code",
      "source": [
        "df.at[6, 'Country']"
      ],
      "metadata": {
        "colab": {
          "base_uri": "https://localhost:8080/",
          "height": 35
        },
        "id": "SDZCxJKHcFQ1",
        "outputId": "a7432d14-faea-4b22-8c8b-028ab6ce6358"
      },
      "execution_count": 20,
      "outputs": [
        {
          "output_type": "execute_result",
          "data": {
            "text/plain": [
              "'Nigeria'"
            ],
            "application/vnd.google.colaboratory.intrinsic+json": {
              "type": "string"
            }
          },
          "metadata": {},
          "execution_count": 20
        }
      ]
    },
    {
      "cell_type": "code",
      "source": [
        "df.iat[2,0]"
      ],
      "metadata": {
        "colab": {
          "base_uri": "https://localhost:8080/",
          "height": 35
        },
        "id": "mcWn3d62cYPe",
        "outputId": "cd924392-0d7a-4aab-aa79-16d1c767c09c"
      },
      "execution_count": 21,
      "outputs": [
        {
          "output_type": "execute_result",
          "data": {
            "text/plain": [
              "'Nigeria'"
            ],
            "application/vnd.google.colaboratory.intrinsic+json": {
              "type": "string"
            }
          },
          "metadata": {},
          "execution_count": 21
        }
      ]
    }
  ]
}