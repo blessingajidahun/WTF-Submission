{
 "cells": [
  {
   "cell_type": "code",
   "execution_count": 1,
   "id": "d082a746",
   "metadata": {},
   "outputs": [
    {
     "name": "stdout",
     "output_type": "stream",
     "text": [
      "1\n",
      "2\n",
      "3\n",
      "4\n",
      "5\n",
      "6\n",
      "7\n",
      "8\n",
      "9\n",
      "10\n"
     ]
    }
   ],
   "source": [
    "#Print all element of a list using for loop\n",
    "\n",
    "number_list = [1,2,3,4,5,6,7,8,9,10]\n",
    "for a in number_list:\n",
    "    print(a)"
   ]
  },
  {
   "cell_type": "code",
   "execution_count": 17,
   "id": "c33344d8",
   "metadata": {},
   "outputs": [
    {
     "name": "stdout",
     "output_type": "stream",
     "text": [
      "[1, 3, 5, 7, 9, 11, 13, 15, 17, 19, 21, 23, 25, 27, 29, 31, 33, 35, 37, 39, 41, 43, 45, 47, 49, 51, 53, 55, 57, 59, 61, 63, 65, 67, 69, 71, 73, 75, 77, 79, 81, 83, 85, 87, 89, 91, 93, 95, 97, 99]\n"
     ]
    }
   ],
   "source": [
    "#Using range(1,101), make two list, one containing all even numbers andother containing all odd numbers\n",
    "my_list_odd_numbers = list(range(1,101,2))\n",
    "print(my_list_odd_numbers)\n"
   ]
  },
  {
   "cell_type": "code",
   "execution_count": 21,
   "id": "0186f870",
   "metadata": {},
   "outputs": [
    {
     "name": "stdout",
     "output_type": "stream",
     "text": [
      "[2, 4, 6, 8, 10, 12, 14, 16, 18, 20, 22, 24, 26, 28, 30, 32, 34, 36, 38, 40, 42, 44, 46, 48, 50, 52, 54, 56, 58, 60, 62, 64, 66, 68, 70, 72, 74, 76, 78, 80, 82, 84, 86, 88, 90, 92, 94, 96, 98, 100]\n"
     ]
    }
   ],
   "source": [
    "my_list_even_numbers =list(range(2,101,2))\n",
    "print(my_list_even_numbers)"
   ]
  },
  {
   "cell_type": "code",
   "execution_count": 20,
   "id": "b91c54cf",
   "metadata": {},
   "outputs": [
    {
     "name": "stdout",
     "output_type": "stream",
     "text": [
      "{'Seun': 1, 'Kaothar': 2, 'Vera': 3, 'Chioma': 5, 'Okechukwu': 8}\n"
     ]
    }
   ],
   "source": [
    "#Write a Python script to merge two Python dictionaries\n",
    "employees = {'Seun': 1, 'Kaothar': 2, 'Vera': 3}\n",
    "new_hires = {'Chioma': 5, 'Okechukwu': 8}\n",
    "employees.update(new_hires)\n",
    "print(employees)"
   ]
  },
  {
   "cell_type": "code",
   "execution_count": 11,
   "id": "d52fa2de",
   "metadata": {},
   "outputs": [
    {
     "name": "stdout",
     "output_type": "stream",
     "text": [
      "largest number is: 456\n"
     ]
    }
   ],
   "source": [
    "#Write a python programto get the largest number from a list\n",
    "mylist = [12, 456, 13, 89, 34, 23, 67, 428]\n",
    "print(\"largest number is:\", max(mylist))"
   ]
  },
  {
   "cell_type": "code",
   "execution_count": 12,
   "id": "3d5a26d7",
   "metadata": {},
   "outputs": [
    {
     "name": "stdout",
     "output_type": "stream",
     "text": [
      "{'Abuja': 1, 'Kano': 2, 'Oyo': 3, 'Lagos': 4}\n",
      "{'Abuja': 1, 'Kano': 2, 'Lagos': 4}\n"
     ]
    }
   ],
   "source": [
    "#Write a python program to remove a key from a dictionary\n",
    "mydict ={'Abuja': 1, 'Kano': 2, 'Oyo': 3, 'Lagos': 4}\n",
    "print(mydict)\n",
    "mydict.pop('Oyo')\n",
    "print(mydict)"
   ]
  },
  {
   "cell_type": "code",
   "execution_count": 24,
   "id": "1353dc8f",
   "metadata": {},
   "outputs": [
    {
     "name": "stdout",
     "output_type": "stream",
     "text": [
      "please enter your age 56\n",
      "please enter your age 12\n",
      "please enter your age 97\n",
      "Youngest age is: 12\n",
      "Oldest age is: 97\n"
     ]
    }
   ],
   "source": [
    "#Take input of age of 3 people by user and determine oldest and youngest among them\n",
    "age1 =int(input('please enter your age '))\n",
    "age2 =int(input('please enter your age '))\n",
    "age3 =int(input('please enter your age '))\n",
    "min_age = min(age1,age2,age3)\n",
    "max_age = max(age1,age2,age3)\n",
    "print('Youngest age is:', min_age)\n",
    "print('Oldest age is:', max_age)"
   ]
  },
  {
   "cell_type": "code",
   "execution_count": 29,
   "id": "f8beae75",
   "metadata": {},
   "outputs": [
    {
     "name": "stdout",
     "output_type": "stream",
     "text": [
      "Enter your mark 85\n",
      "Your grade is A\n"
     ]
    }
   ],
   "source": [
    "#A school has following rules for grading system:\n",
    "#a. Below 25 -F\n",
    "#b. 25 to 45 -E\n",
    "#c. 45 to 50 -D\n",
    "#d. 50 to 60 -C\n",
    "#e. 60 to 80 -B\n",
    "#f. Above 80 -A\n",
    "#Ask user to enter marks and print the corresponding grade.\n",
    "\n",
    "marks = int(input('Enter your mark '))\n",
    "if marks < 25:\n",
    "    print('Your grade is F')\n",
    "elif marks>=25 and marks<45:\n",
    "    print('Your grade is E')\n",
    "elif marks>=45 and marks<50:\n",
    "    Print('Your grade is D')\n",
    "elif marks>=50 and marks<60:\n",
    "    print('Your grade is C')\n",
    "elif marks>=60 and marks<80:\n",
    "    print('Your grade is B')\n",
    "elif marks>=80 and marks<=100:\n",
    "    print('Your grade is A')\n",
    "else:\n",
    "    print('Please check your score')"
   ]
  },
  {
   "cell_type": "code",
   "execution_count": 32,
   "id": "45e895a4",
   "metadata": {},
   "outputs": [
    {
     "name": "stdout",
     "output_type": "stream",
     "text": [
      "Enter your salary 500000\n",
      "Enter your year of service 4\n",
      "Not qualified for bonus yet\n"
     ]
    }
   ],
   "source": [
    "#A company decided to give bonus of 5% to employee if his/her year of service is more than 5 years. \n",
    "#Ask user for their salary and year of service and print the net bonus amount.\n",
    "salary = int(input('Enter your salary '))\n",
    "service = int(input('Enter your year of service '))\n",
    "if service>5:\n",
    "    bonus_amount= salary+(5/100*salary)\n",
    "    print(bonus_amount)\n",
    "else:\n",
    "    print('Not qualified for bonus yet')"
   ]
  },
  {
   "cell_type": "code",
   "execution_count": null,
   "id": "5e0b90a3",
   "metadata": {},
   "outputs": [],
   "source": []
  },
  {
   "cell_type": "code",
   "execution_count": null,
   "id": "2771c657",
   "metadata": {},
   "outputs": [],
   "source": []
  }
 ],
 "metadata": {
  "kernelspec": {
   "display_name": "Python 3 (ipykernel)",
   "language": "python",
   "name": "python3"
  },
  "language_info": {
   "codemirror_mode": {
    "name": "ipython",
    "version": 3
   },
   "file_extension": ".py",
   "mimetype": "text/x-python",
   "name": "python",
   "nbconvert_exporter": "python",
   "pygments_lexer": "ipython3",
   "version": "3.9.12"
  }
 },
 "nbformat": 4,
 "nbformat_minor": 5
}
