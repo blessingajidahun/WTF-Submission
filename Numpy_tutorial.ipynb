{
  "nbformat": 4,
  "nbformat_minor": 0,
  "metadata": {
    "colab": {
      "provenance": [],
      "authorship_tag": "ABX9TyPe66bz48FLb4CKRruH3AAy",
      "include_colab_link": true
    },
    "kernelspec": {
      "name": "python3",
      "display_name": "Python 3"
    },
    "language_info": {
      "name": "python"
    }
  },
  "cells": [
    {
      "cell_type": "markdown",
      "metadata": {
        "id": "view-in-github",
        "colab_type": "text"
      },
      "source": [
        "<a href=\"https://colab.research.google.com/github/blessingajidahun/WTF-Submission/blob/main/Numpy_tutorial.ipynb\" target=\"_parent\"><img src=\"https://colab.research.google.com/assets/colab-badge.svg\" alt=\"Open In Colab\"/></a>"
      ]
    },
    {
      "cell_type": "code",
      "execution_count": null,
      "metadata": {
        "colab": {
          "base_uri": "https://localhost:8080/"
        },
        "id": "CaXc9iwY9NcX",
        "outputId": "6bab8402-0463-4607-b5f1-aea42c8e1878"
      },
      "outputs": [
        {
          "output_type": "stream",
          "name": "stdout",
          "text": [
            "<class 'list'>\n"
          ]
        }
      ],
      "source": [
        "import numpy as np\n",
        "\n",
        "arr = [6, 7, 8, 9]\n",
        "print(type(arr))"
      ]
    },
    {
      "cell_type": "code",
      "source": [
        "a = np.array(arr)\n",
        "print(type(a))"
      ],
      "metadata": {
        "colab": {
          "base_uri": "https://localhost:8080/"
        },
        "id": "FxSKw7xA-Yo4",
        "outputId": "1e92c09e-cf1c-4307-c832-84eed52cdab6"
      },
      "execution_count": null,
      "outputs": [
        {
          "output_type": "stream",
          "name": "stdout",
          "text": [
            "<class 'numpy.ndarray'>\n"
          ]
        }
      ]
    },
    {
      "cell_type": "code",
      "source": [
        "print(a.shape)\n",
        "print (a.dtype)\n",
        "print(a.ndim)"
      ],
      "metadata": {
        "colab": {
          "base_uri": "https://localhost:8080/"
        },
        "id": "qdB5EOyN-j0k",
        "outputId": "9eb9d962-4802-4bf7-9881-df25753354d6"
      },
      "execution_count": null,
      "outputs": [
        {
          "output_type": "stream",
          "name": "stdout",
          "text": [
            "(4,)\n",
            "int64\n",
            "1\n"
          ]
        }
      ]
    },
    {
      "cell_type": "code",
      "source": [
        "b = np.array([[1,2,3,4], [5,6,7,8]])\n",
        "print(b)"
      ],
      "metadata": {
        "colab": {
          "base_uri": "https://localhost:8080/"
        },
        "id": "NBtqeYbR_ufe",
        "outputId": "ecf4e246-f2d4-48c2-fbf1-ad2eddd77d1e"
      },
      "execution_count": null,
      "outputs": [
        {
          "output_type": "stream",
          "name": "stdout",
          "text": [
            "[[1 2 3 4]\n",
            " [5 6 7 8]]\n"
          ]
        }
      ]
    },
    {
      "cell_type": "code",
      "source": [
        "print(b.ndim)\n",
        "print(b.shape)"
      ],
      "metadata": {
        "colab": {
          "base_uri": "https://localhost:8080/"
        },
        "id": "PTbfs_6yBA1C",
        "outputId": "e3d8eeb5-9a93-4426-fd6c-40c0103f0327"
      },
      "execution_count": null,
      "outputs": [
        {
          "output_type": "stream",
          "name": "stdout",
          "text": [
            "2\n",
            "(2, 4)\n"
          ]
        }
      ]
    },
    {
      "cell_type": "code",
      "source": [
        "print(type(b))"
      ],
      "metadata": {
        "colab": {
          "base_uri": "https://localhost:8080/"
        },
        "id": "4H1NHIWYCK1c",
        "outputId": "0c4725d9-ae75-4b34-f899-6d0c3352819e"
      },
      "execution_count": null,
      "outputs": [
        {
          "output_type": "stream",
          "name": "stdout",
          "text": [
            "<class 'numpy.ndarray'>\n"
          ]
        }
      ]
    },
    {
      "cell_type": "code",
      "source": [
        "print(b.dtype)"
      ],
      "metadata": {
        "colab": {
          "base_uri": "https://localhost:8080/"
        },
        "id": "iHqDpr54CWz_",
        "outputId": "dcd59600-c52f-4e82-8836-6314889c545b"
      },
      "execution_count": null,
      "outputs": [
        {
          "output_type": "stream",
          "name": "stdout",
          "text": [
            "int64\n"
          ]
        }
      ]
    },
    {
      "cell_type": "code",
      "source": [
        "import numpy as np"
      ],
      "metadata": {
        "id": "UEh2WUcmqeBn"
      },
      "execution_count": 2,
      "outputs": []
    },
    {
      "cell_type": "code",
      "source": [
        "c = np.array ([[[1, 2, 3, 4], [5, 6, 7, 8], [9, 10, 11, 12]]])\n",
        "print(c)"
      ],
      "metadata": {
        "id": "odWo_ya1Cs8m",
        "colab": {
          "base_uri": "https://localhost:8080/"
        },
        "outputId": "59de6e21-2eed-4fc1-c070-1173dd72f4a4"
      },
      "execution_count": 5,
      "outputs": [
        {
          "output_type": "stream",
          "name": "stdout",
          "text": [
            "[[[ 1  2  3  4]\n",
            "  [ 5  6  7  8]\n",
            "  [ 9 10 11 12]]]\n"
          ]
        }
      ]
    },
    {
      "cell_type": "code",
      "source": [
        "arr = c.reshape(3,4)\n",
        "print(arr)\n",
        "\n",
        "print(arr[1])"
      ],
      "metadata": {
        "colab": {
          "base_uri": "https://localhost:8080/"
        },
        "id": "-5i_ZPdFsP1j",
        "outputId": "5f571209-f111-493a-8be1-47372045dd38"
      },
      "execution_count": 23,
      "outputs": [
        {
          "output_type": "stream",
          "name": "stdout",
          "text": [
            "[[ 1  2  3  4]\n",
            " [ 5  6  7  8]\n",
            " [ 9 10 11 12]]\n",
            "[5 6 7 8]\n"
          ]
        }
      ]
    },
    {
      "cell_type": "code",
      "source": [
        "print(type(arr))"
      ],
      "metadata": {
        "colab": {
          "base_uri": "https://localhost:8080/"
        },
        "id": "YaGhE8_A6b9m",
        "outputId": "17e9ec93-d0b5-490e-cf4e-73595db0183c"
      },
      "execution_count": 52,
      "outputs": [
        {
          "output_type": "stream",
          "name": "stdout",
          "text": [
            "<class 'numpy.ndarray'>\n"
          ]
        }
      ]
    },
    {
      "cell_type": "code",
      "source": [
        "print(arr[2,:2])"
      ],
      "metadata": {
        "colab": {
          "base_uri": "https://localhost:8080/"
        },
        "id": "CxrpqCPyw34R",
        "outputId": "f7d83259-5618-4231-a1a2-6d320fdba742"
      },
      "execution_count": 25,
      "outputs": [
        {
          "output_type": "stream",
          "name": "stdout",
          "text": [
            "[ 9 10]\n"
          ]
        }
      ]
    },
    {
      "cell_type": "code",
      "source": [],
      "metadata": {
        "id": "nK844_QJsOPO"
      },
      "execution_count": null,
      "outputs": []
    },
    {
      "cell_type": "code",
      "source": [
        "d = c.reshape(2,6)\n",
        "print(d)"
      ],
      "metadata": {
        "id": "60YdUnidrCLD"
      },
      "execution_count": null,
      "outputs": []
    },
    {
      "cell_type": "code",
      "source": [
        "d = c.reshape(3,4,1)\n",
        "print(d)"
      ],
      "metadata": {
        "id": "4vaGPz-GrRrm"
      },
      "execution_count": null,
      "outputs": []
    },
    {
      "cell_type": "markdown",
      "source": [
        "Random function"
      ],
      "metadata": {
        "id": "A73zY_47xTOQ"
      }
    },
    {
      "cell_type": "code",
      "source": [
        "random_int= np.random.randint(100)\n",
        "print(random_int)"
      ],
      "metadata": {
        "id": "IRqielRPxYdT"
      },
      "execution_count": null,
      "outputs": []
    },
    {
      "cell_type": "markdown",
      "source": [
        "Generate a 1-D array containing 5 random integers from 0 to 100"
      ],
      "metadata": {
        "id": "oLG-IplKzPKb"
      }
    },
    {
      "cell_type": "code",
      "source": [
        "random_array = np.random.randint(100, size = (5))\n",
        "print(random_array)"
      ],
      "metadata": {
        "colab": {
          "base_uri": "https://localhost:8080/"
        },
        "id": "mTayVoVvxpyr",
        "outputId": "d74af790-1ecc-4ae9-a842-c45340382f22"
      },
      "execution_count": 32,
      "outputs": [
        {
          "output_type": "stream",
          "name": "stdout",
          "text": [
            "[28  2 77 69 24]\n"
          ]
        }
      ]
    },
    {
      "cell_type": "markdown",
      "source": [
        "Generate a 2-D array with 3 rows, each row containing 5 random integers from 0 to 100"
      ],
      "metadata": {
        "id": "aZrW2R6-xTGs"
      }
    },
    {
      "cell_type": "code",
      "source": [
        "a= np.random.randint(50, size = (3,5))\n",
        "print(a)"
      ],
      "metadata": {
        "colab": {
          "base_uri": "https://localhost:8080/"
        },
        "id": "8Itxn0tyz7KH",
        "outputId": "e559b815-f396-4ee9-c85c-d250b25841c2"
      },
      "execution_count": 33,
      "outputs": [
        {
          "output_type": "stream",
          "name": "stdout",
          "text": [
            "[[46 44 30  5 16]\n",
            " [49 49 39 37 23]\n",
            " [19 17 36 13 44]]\n"
          ]
        }
      ]
    },
    {
      "cell_type": "markdown",
      "source": [
        "The rand() method is used to generate random floating point numbers between 0 and 1. It also allows you to specify the shape of the array.\n",
        "To Generate a 1-D array containing 5 random floats:"
      ],
      "metadata": {
        "id": "sSWWkW3l04d5"
      }
    },
    {
      "cell_type": "code",
      "source": [
        "x = np.random.rand(5)\n",
        "print(x)"
      ],
      "metadata": {
        "colab": {
          "base_uri": "https://localhost:8080/"
        },
        "id": "-ioRnNEt1Saa",
        "outputId": "283d9735-482e-473f-d0d2-78b88b33d519"
      },
      "execution_count": 34,
      "outputs": [
        {
          "output_type": "stream",
          "name": "stdout",
          "text": [
            "[0.81140248 0.10712104 0.81615024 0.80001393 0.69607169]\n"
          ]
        }
      ]
    },
    {
      "cell_type": "markdown",
      "source": [
        "Genearte a 2d array containing 3 rows with 4 columns each"
      ],
      "metadata": {
        "id": "DKj98S1A16Ms"
      }
    },
    {
      "cell_type": "code",
      "source": [
        "x = np.random.rand(3,4)\n",
        "print(x)"
      ],
      "metadata": {
        "id": "m0tqZhQb2FCr"
      },
      "execution_count": null,
      "outputs": []
    },
    {
      "cell_type": "code",
      "source": [
        "np.random.random((2,3))\n"
      ],
      "metadata": {
        "colab": {
          "base_uri": "https://localhost:8080/"
        },
        "id": "iuhvrhgn2ra_",
        "outputId": "27fec918-5164-4dc8-e4b8-49273fe2400e"
      },
      "execution_count": 43,
      "outputs": [
        {
          "output_type": "execute_result",
          "data": {
            "text/plain": [
              "array([[0.48998123, 0.1850498 , 0.0265156 ],\n",
              "       [0.24893999, 0.8664507 , 0.45790052]])"
            ]
          },
          "metadata": {},
          "execution_count": 43
        }
      ]
    },
    {
      "cell_type": "code",
      "source": [
        "np.ones((2,3))\n"
      ],
      "metadata": {
        "colab": {
          "base_uri": "https://localhost:8080/"
        },
        "id": "70PMrwfL3a_r",
        "outputId": "b9b498f1-c2c0-4e38-dc55-d78b1393c62c"
      },
      "execution_count": 44,
      "outputs": [
        {
          "output_type": "execute_result",
          "data": {
            "text/plain": [
              "array([[1., 1., 1.],\n",
              "       [1., 1., 1.]])"
            ]
          },
          "metadata": {},
          "execution_count": 44
        }
      ]
    },
    {
      "cell_type": "code",
      "source": [
        "np.zeros((2,3))\n"
      ],
      "metadata": {
        "colab": {
          "base_uri": "https://localhost:8080/"
        },
        "id": "IBpoMhlf3f3h",
        "outputId": "e49ba49a-3988-44b5-9f1c-fe6e003513af"
      },
      "execution_count": 46,
      "outputs": [
        {
          "output_type": "execute_result",
          "data": {
            "text/plain": [
              "array([[0., 0., 0.],\n",
              "       [0., 0., 0.]])"
            ]
          },
          "metadata": {},
          "execution_count": 46
        }
      ]
    },
    {
      "cell_type": "code",
      "source": [
        "np.identity((3))"
      ],
      "metadata": {
        "colab": {
          "base_uri": "https://localhost:8080/"
        },
        "id": "VPU-nfN03okF",
        "outputId": "4e8fd04d-c9d8-4067-cd9c-2bf572a18332"
      },
      "execution_count": 47,
      "outputs": [
        {
          "output_type": "execute_result",
          "data": {
            "text/plain": [
              "array([[1., 0., 0.],\n",
              "       [0., 1., 0.],\n",
              "       [0., 0., 1.]])"
            ]
          },
          "metadata": {},
          "execution_count": 47
        }
      ]
    },
    {
      "cell_type": "code",
      "source": [
        "c = np.array([[9.0, 8.0, 7.0], [1.0, 2.0, 3.0]])\n",
        "d = np.array([[4.0, 5.0, 6.0], [9.0, 8.0, 7.0]])\n",
        "print(c+d)"
      ],
      "metadata": {
        "colab": {
          "base_uri": "https://localhost:8080/"
        },
        "id": "k2U8JjU83oNh",
        "outputId": "3e0669ac-0547-46ae-87e7-d696ef0c1604"
      },
      "execution_count": 48,
      "outputs": [
        {
          "output_type": "stream",
          "name": "stdout",
          "text": [
            "[[13. 13. 13.]\n",
            " [10. 10. 10.]]\n"
          ]
        }
      ]
    },
    {
      "cell_type": "code",
      "source": [
        "print(c*d)\n",
        "print(c**2)"
      ],
      "metadata": {
        "colab": {
          "base_uri": "https://localhost:8080/"
        },
        "id": "h13skFyo6H4Q",
        "outputId": "11e03f4e-0c34-4b6b-e356-8ae48bab3fac"
      },
      "execution_count": 50,
      "outputs": [
        {
          "output_type": "stream",
          "name": "stdout",
          "text": [
            "[[36. 40. 42.]\n",
            " [ 9. 16. 21.]]\n",
            "[[81. 64. 49.]\n",
            " [ 1.  4.  9.]]\n"
          ]
        }
      ]
    },
    {
      "cell_type": "code",
      "source": [
        "print(d[1,2])"
      ],
      "metadata": {
        "colab": {
          "base_uri": "https://localhost:8080/"
        },
        "id": "jAJkCNkN7bW0",
        "outputId": "ce8a70f4-6aac-4280-be46-915f1869ba37"
      },
      "execution_count": 56,
      "outputs": [
        {
          "output_type": "stream",
          "name": "stdout",
          "text": [
            "7.0\n"
          ]
        }
      ]
    },
    {
      "cell_type": "markdown",
      "source": [
        "Indexing in numpy"
      ],
      "metadata": {
        "id": "KqxmG197CzZy"
      }
    },
    {
      "cell_type": "code",
      "source": [
        "e = np.array([[10,11,12], [13,14,15], [16,17,18], [19,20,21]])\n",
        "print(e.shape)\n",
        "print(e.ndim)"
      ],
      "metadata": {
        "colab": {
          "base_uri": "https://localhost:8080/"
        },
        "id": "FvKySUkYC2Rj",
        "outputId": "3dc05872-fe77-4f30-9519-bea33e77a3fc"
      },
      "execution_count": 57,
      "outputs": [
        {
          "output_type": "stream",
          "name": "stdout",
          "text": [
            "(4, 3)\n",
            "2\n"
          ]
        }
      ]
    },
    {
      "cell_type": "code",
      "source": [
        "e[:3, :2]"
      ],
      "metadata": {
        "colab": {
          "base_uri": "https://localhost:8080/"
        },
        "id": "isNu71AZDKi_",
        "outputId": "bd58e16d-c20f-4188-f23d-89956bc13074"
      },
      "execution_count": 58,
      "outputs": [
        {
          "output_type": "execute_result",
          "data": {
            "text/plain": [
              "array([[10, 11],\n",
              "       [13, 14],\n",
              "       [16, 17]])"
            ]
          },
          "metadata": {},
          "execution_count": 58
        }
      ]
    },
    {
      "cell_type": "code",
      "source": [
        "e[[2,0,3,1], [2,1,0,2]]"
      ],
      "metadata": {
        "colab": {
          "base_uri": "https://localhost:8080/"
        },
        "id": "wiRXFJAyDSRq",
        "outputId": "baab726b-3e3c-404f-8d4a-e42d37c4f9f9"
      },
      "execution_count": 59,
      "outputs": [
        {
          "output_type": "execute_result",
          "data": {
            "text/plain": [
              "array([18, 11, 19, 15])"
            ]
          },
          "metadata": {},
          "execution_count": 59
        }
      ]
    },
    {
      "cell_type": "code",
      "source": [],
      "metadata": {
        "id": "H-KTniuWDSLX"
      },
      "execution_count": null,
      "outputs": []
    }
  ]
}